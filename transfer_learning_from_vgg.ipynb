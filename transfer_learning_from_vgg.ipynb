{
  "nbformat": 4,
  "nbformat_minor": 0,
  "metadata": {
    "colab": {
      "provenance": [],
      "gpuType": "T4"
    },
    "kernelspec": {
      "name": "python3",
      "display_name": "Python 3"
    },
    "language_info": {
      "name": "python"
    },
    "accelerator": "GPU",
    "widgets": {
      "application/vnd.jupyter.widget-state+json": {
        "7615182d0be24ec88a96b82e397620c6": {
          "model_module": "@jupyter-widgets/controls",
          "model_name": "HBoxModel",
          "model_module_version": "1.5.0",
          "state": {
            "_dom_classes": [],
            "_model_module": "@jupyter-widgets/controls",
            "_model_module_version": "1.5.0",
            "_model_name": "HBoxModel",
            "_view_count": null,
            "_view_module": "@jupyter-widgets/controls",
            "_view_module_version": "1.5.0",
            "_view_name": "HBoxView",
            "box_style": "",
            "children": [
              "IPY_MODEL_5fb1cc87312b42b1a5e986b2366ee5dd",
              "IPY_MODEL_fde9bba5abdc435a9157a8fca84edd4e",
              "IPY_MODEL_6bbaa3c217004c3fbf9f6bb3db0a2974"
            ],
            "layout": "IPY_MODEL_5974cb41b7d847b7901f6559a485c575"
          }
        },
        "5fb1cc87312b42b1a5e986b2366ee5dd": {
          "model_module": "@jupyter-widgets/controls",
          "model_name": "HTMLModel",
          "model_module_version": "1.5.0",
          "state": {
            "_dom_classes": [],
            "_model_module": "@jupyter-widgets/controls",
            "_model_module_version": "1.5.0",
            "_model_name": "HTMLModel",
            "_view_count": null,
            "_view_module": "@jupyter-widgets/controls",
            "_view_module_version": "1.5.0",
            "_view_name": "HTMLView",
            "description": "",
            "description_tooltip": null,
            "layout": "IPY_MODEL_e5de60dfae624adfacdbec9827b75f14",
            "placeholder": "​",
            "style": "IPY_MODEL_b675fe6fafd54ad582a282d6d57ef38f",
            "value": "Dl Completed...: 100%"
          }
        },
        "fde9bba5abdc435a9157a8fca84edd4e": {
          "model_module": "@jupyter-widgets/controls",
          "model_name": "FloatProgressModel",
          "model_module_version": "1.5.0",
          "state": {
            "_dom_classes": [],
            "_model_module": "@jupyter-widgets/controls",
            "_model_module_version": "1.5.0",
            "_model_name": "FloatProgressModel",
            "_view_count": null,
            "_view_module": "@jupyter-widgets/controls",
            "_view_module_version": "1.5.0",
            "_view_name": "ProgressView",
            "bar_style": "success",
            "description": "",
            "description_tooltip": null,
            "layout": "IPY_MODEL_a6d34b7ef70644dcb0d44fb305c63222",
            "max": 5,
            "min": 0,
            "orientation": "horizontal",
            "style": "IPY_MODEL_95e5bfb028ad421c8f56878822614965",
            "value": 5
          }
        },
        "6bbaa3c217004c3fbf9f6bb3db0a2974": {
          "model_module": "@jupyter-widgets/controls",
          "model_name": "HTMLModel",
          "model_module_version": "1.5.0",
          "state": {
            "_dom_classes": [],
            "_model_module": "@jupyter-widgets/controls",
            "_model_module_version": "1.5.0",
            "_model_name": "HTMLModel",
            "_view_count": null,
            "_view_module": "@jupyter-widgets/controls",
            "_view_module_version": "1.5.0",
            "_view_name": "HTMLView",
            "description": "",
            "description_tooltip": null,
            "layout": "IPY_MODEL_18fa185a6802472abc5c7bb03cabe5ec",
            "placeholder": "​",
            "style": "IPY_MODEL_e06732d4686147d3b9677a2708ebb9a6",
            "value": " 5/5 [00:02&lt;00:00,  1.53 file/s]"
          }
        },
        "5974cb41b7d847b7901f6559a485c575": {
          "model_module": "@jupyter-widgets/base",
          "model_name": "LayoutModel",
          "model_module_version": "1.2.0",
          "state": {
            "_model_module": "@jupyter-widgets/base",
            "_model_module_version": "1.2.0",
            "_model_name": "LayoutModel",
            "_view_count": null,
            "_view_module": "@jupyter-widgets/base",
            "_view_module_version": "1.2.0",
            "_view_name": "LayoutView",
            "align_content": null,
            "align_items": null,
            "align_self": null,
            "border": null,
            "bottom": null,
            "display": null,
            "flex": null,
            "flex_flow": null,
            "grid_area": null,
            "grid_auto_columns": null,
            "grid_auto_flow": null,
            "grid_auto_rows": null,
            "grid_column": null,
            "grid_gap": null,
            "grid_row": null,
            "grid_template_areas": null,
            "grid_template_columns": null,
            "grid_template_rows": null,
            "height": null,
            "justify_content": null,
            "justify_items": null,
            "left": null,
            "margin": null,
            "max_height": null,
            "max_width": null,
            "min_height": null,
            "min_width": null,
            "object_fit": null,
            "object_position": null,
            "order": null,
            "overflow": null,
            "overflow_x": null,
            "overflow_y": null,
            "padding": null,
            "right": null,
            "top": null,
            "visibility": null,
            "width": null
          }
        },
        "e5de60dfae624adfacdbec9827b75f14": {
          "model_module": "@jupyter-widgets/base",
          "model_name": "LayoutModel",
          "model_module_version": "1.2.0",
          "state": {
            "_model_module": "@jupyter-widgets/base",
            "_model_module_version": "1.2.0",
            "_model_name": "LayoutModel",
            "_view_count": null,
            "_view_module": "@jupyter-widgets/base",
            "_view_module_version": "1.2.0",
            "_view_name": "LayoutView",
            "align_content": null,
            "align_items": null,
            "align_self": null,
            "border": null,
            "bottom": null,
            "display": null,
            "flex": null,
            "flex_flow": null,
            "grid_area": null,
            "grid_auto_columns": null,
            "grid_auto_flow": null,
            "grid_auto_rows": null,
            "grid_column": null,
            "grid_gap": null,
            "grid_row": null,
            "grid_template_areas": null,
            "grid_template_columns": null,
            "grid_template_rows": null,
            "height": null,
            "justify_content": null,
            "justify_items": null,
            "left": null,
            "margin": null,
            "max_height": null,
            "max_width": null,
            "min_height": null,
            "min_width": null,
            "object_fit": null,
            "object_position": null,
            "order": null,
            "overflow": null,
            "overflow_x": null,
            "overflow_y": null,
            "padding": null,
            "right": null,
            "top": null,
            "visibility": null,
            "width": null
          }
        },
        "b675fe6fafd54ad582a282d6d57ef38f": {
          "model_module": "@jupyter-widgets/controls",
          "model_name": "DescriptionStyleModel",
          "model_module_version": "1.5.0",
          "state": {
            "_model_module": "@jupyter-widgets/controls",
            "_model_module_version": "1.5.0",
            "_model_name": "DescriptionStyleModel",
            "_view_count": null,
            "_view_module": "@jupyter-widgets/base",
            "_view_module_version": "1.2.0",
            "_view_name": "StyleView",
            "description_width": ""
          }
        },
        "a6d34b7ef70644dcb0d44fb305c63222": {
          "model_module": "@jupyter-widgets/base",
          "model_name": "LayoutModel",
          "model_module_version": "1.2.0",
          "state": {
            "_model_module": "@jupyter-widgets/base",
            "_model_module_version": "1.2.0",
            "_model_name": "LayoutModel",
            "_view_count": null,
            "_view_module": "@jupyter-widgets/base",
            "_view_module_version": "1.2.0",
            "_view_name": "LayoutView",
            "align_content": null,
            "align_items": null,
            "align_self": null,
            "border": null,
            "bottom": null,
            "display": null,
            "flex": null,
            "flex_flow": null,
            "grid_area": null,
            "grid_auto_columns": null,
            "grid_auto_flow": null,
            "grid_auto_rows": null,
            "grid_column": null,
            "grid_gap": null,
            "grid_row": null,
            "grid_template_areas": null,
            "grid_template_columns": null,
            "grid_template_rows": null,
            "height": null,
            "justify_content": null,
            "justify_items": null,
            "left": null,
            "margin": null,
            "max_height": null,
            "max_width": null,
            "min_height": null,
            "min_width": null,
            "object_fit": null,
            "object_position": null,
            "order": null,
            "overflow": null,
            "overflow_x": null,
            "overflow_y": null,
            "padding": null,
            "right": null,
            "top": null,
            "visibility": null,
            "width": null
          }
        },
        "95e5bfb028ad421c8f56878822614965": {
          "model_module": "@jupyter-widgets/controls",
          "model_name": "ProgressStyleModel",
          "model_module_version": "1.5.0",
          "state": {
            "_model_module": "@jupyter-widgets/controls",
            "_model_module_version": "1.5.0",
            "_model_name": "ProgressStyleModel",
            "_view_count": null,
            "_view_module": "@jupyter-widgets/base",
            "_view_module_version": "1.2.0",
            "_view_name": "StyleView",
            "bar_color": null,
            "description_width": ""
          }
        },
        "18fa185a6802472abc5c7bb03cabe5ec": {
          "model_module": "@jupyter-widgets/base",
          "model_name": "LayoutModel",
          "model_module_version": "1.2.0",
          "state": {
            "_model_module": "@jupyter-widgets/base",
            "_model_module_version": "1.2.0",
            "_model_name": "LayoutModel",
            "_view_count": null,
            "_view_module": "@jupyter-widgets/base",
            "_view_module_version": "1.2.0",
            "_view_name": "LayoutView",
            "align_content": null,
            "align_items": null,
            "align_self": null,
            "border": null,
            "bottom": null,
            "display": null,
            "flex": null,
            "flex_flow": null,
            "grid_area": null,
            "grid_auto_columns": null,
            "grid_auto_flow": null,
            "grid_auto_rows": null,
            "grid_column": null,
            "grid_gap": null,
            "grid_row": null,
            "grid_template_areas": null,
            "grid_template_columns": null,
            "grid_template_rows": null,
            "height": null,
            "justify_content": null,
            "justify_items": null,
            "left": null,
            "margin": null,
            "max_height": null,
            "max_width": null,
            "min_height": null,
            "min_width": null,
            "object_fit": null,
            "object_position": null,
            "order": null,
            "overflow": null,
            "overflow_x": null,
            "overflow_y": null,
            "padding": null,
            "right": null,
            "top": null,
            "visibility": null,
            "width": null
          }
        },
        "e06732d4686147d3b9677a2708ebb9a6": {
          "model_module": "@jupyter-widgets/controls",
          "model_name": "DescriptionStyleModel",
          "model_module_version": "1.5.0",
          "state": {
            "_model_module": "@jupyter-widgets/controls",
            "_model_module_version": "1.5.0",
            "_model_name": "DescriptionStyleModel",
            "_view_count": null,
            "_view_module": "@jupyter-widgets/base",
            "_view_module_version": "1.2.0",
            "_view_name": "StyleView",
            "description_width": ""
          }
        }
      }
    }
  },
  "cells": [
    {
      "cell_type": "code",
      "execution_count": 1,
      "metadata": {
        "id": "UaAqCz0MCHVh"
      },
      "outputs": [],
      "source": [
        "import numpy as np\n",
        "import tensorflow as tf\n",
        "import pandas as pd\n",
        "from glob import glob\n",
        "import matplotlib.pyplot as plt\n",
        "import keras\n",
        "from keras.layers import Input, Lambda, Dense, Flatten\n",
        "from keras.models import Model\n",
        "from keras.applications.vgg16 import VGG16\n",
        "from keras.applications.vgg19 import VGG19\n",
        "from keras.preprocessing import image\n",
        "from keras.preprocessing.image import ImageDataGenerator\n",
        "from keras.models import Sequential"
      ]
    },
    {
      "cell_type": "code",
      "source": [
        "import tensorflow_datasets as tfds\n",
        "(training_set, validation_set),info1=tfds.load('tf_flowers', split=['train[:80%]', 'train[80%:]'], as_supervised=True, shuffle_files=True,with_info=True)"
      ],
      "metadata": {
        "colab": {
          "base_uri": "https://localhost:8080/",
          "height": 84,
          "referenced_widgets": [
            "7615182d0be24ec88a96b82e397620c6",
            "5fb1cc87312b42b1a5e986b2366ee5dd",
            "fde9bba5abdc435a9157a8fca84edd4e",
            "6bbaa3c217004c3fbf9f6bb3db0a2974",
            "5974cb41b7d847b7901f6559a485c575",
            "e5de60dfae624adfacdbec9827b75f14",
            "b675fe6fafd54ad582a282d6d57ef38f",
            "a6d34b7ef70644dcb0d44fb305c63222",
            "95e5bfb028ad421c8f56878822614965",
            "18fa185a6802472abc5c7bb03cabe5ec",
            "e06732d4686147d3b9677a2708ebb9a6"
          ]
        },
        "id": "n47jpv91CrlU",
        "outputId": "60b2a7d3-7bec-432a-b5bc-090a8ce67a16"
      },
      "execution_count": 2,
      "outputs": [
        {
          "output_type": "stream",
          "name": "stdout",
          "text": [
            "Downloading and preparing dataset 218.21 MiB (download: 218.21 MiB, generated: 221.83 MiB, total: 440.05 MiB) to /root/tensorflow_datasets/tf_flowers/3.0.1...\n"
          ]
        },
        {
          "output_type": "display_data",
          "data": {
            "text/plain": [
              "Dl Completed...:   0%|          | 0/5 [00:00<?, ? file/s]"
            ],
            "application/vnd.jupyter.widget-view+json": {
              "version_major": 2,
              "version_minor": 0,
              "model_id": "7615182d0be24ec88a96b82e397620c6"
            }
          },
          "metadata": {}
        },
        {
          "output_type": "stream",
          "name": "stdout",
          "text": [
            "Dataset tf_flowers downloaded and prepared to /root/tensorflow_datasets/tf_flowers/3.0.1. Subsequent calls will reuse this data.\n"
          ]
        }
      ]
    },
    {
      "cell_type": "code",
      "source": [
        "print(info1)\n",
        "train = training_set.map(\n",
        "    lambda image, label: (tf.image.resize(image,[224,224]), label)).map(\n",
        "    lambda image, label: (tf.image.convert_image_dtype(image, tf.float32), tf.reshape(label,[1]))\n",
        ").cache().map(\n",
        "    lambda image, label: (tf.image.random_flip_left_right(image), label)\n",
        ").map(\n",
        "    lambda image, label: (tf.image.random_contrast(image, lower=0.0, upper=1.0), label)\n",
        ").shuffle(\n",
        "    100\n",
        ").prefetch(10).batch(\n",
        "    24\n",
        ").repeat()\n",
        "validation=validation_set.map(\n",
        "    lambda image, label: (tf.image.resize(image,[224,224]), label)).map(\n",
        "    lambda image, label: (tf.image.convert_image_dtype(image, tf.float32), tf.reshape(label,[1]))\n",
        ").cache().map(\n",
        "    lambda image, label: (tf.image.random_flip_left_right(image), label)\n",
        ").map(\n",
        "    lambda image, label: (tf.image.random_contrast(image, lower=0.0, upper=1.0), label)\n",
        ").shuffle(\n",
        "    100\n",
        ").prefetch(10).batch(\n",
        "    10\n",
        ").repeat()\n",
        "for x in train:\n",
        "  print(x[1].shape)\n",
        "  break"
      ],
      "metadata": {
        "colab": {
          "base_uri": "https://localhost:8080/"
        },
        "id": "s13MJ4s-cIL6",
        "outputId": "dfd71df2-d6fa-42d6-e4df-041f4f13e3a9"
      },
      "execution_count": 3,
      "outputs": [
        {
          "output_type": "stream",
          "name": "stdout",
          "text": [
            "tfds.core.DatasetInfo(\n",
            "    name='tf_flowers',\n",
            "    full_name='tf_flowers/3.0.1',\n",
            "    description=\"\"\"\n",
            "    A large set of images of flowers\n",
            "    \"\"\",\n",
            "    homepage='https://www.tensorflow.org/tutorials/load_data/images',\n",
            "    data_path='/root/tensorflow_datasets/tf_flowers/3.0.1.incompleteZDP8RG',\n",
            "    file_format=tfrecord,\n",
            "    download_size=218.21 MiB,\n",
            "    dataset_size=221.83 MiB,\n",
            "    features=FeaturesDict({\n",
            "        'image': Image(shape=(None, None, 3), dtype=uint8),\n",
            "        'label': ClassLabel(shape=(), dtype=int64, num_classes=5),\n",
            "    }),\n",
            "    supervised_keys=('image', 'label'),\n",
            "    disable_shuffling=False,\n",
            "    splits={\n",
            "        'train': <SplitInfo num_examples=3670, num_shards=2>,\n",
            "    },\n",
            "    citation=\"\"\"@ONLINE {tfflowers,\n",
            "    author = \"The TensorFlow Team\",\n",
            "    title = \"Flowers\",\n",
            "    month = \"jan\",\n",
            "    year = \"2019\",\n",
            "    url = \"http://download.tensorflow.org/example_images/flower_photos.tgz\" }\"\"\",\n",
            ")\n",
            "(24, 1)\n"
          ]
        }
      ]
    },
    {
      "cell_type": "code",
      "source": [
        "vgg = VGG16(input_shape=[224,224] + [3], weights='imagenet', include_top=False)\n",
        "for layer in vgg.layers:\n",
        "  layer.trainable = False\n",
        "x = Flatten()(vgg.output)\n",
        "prediction = Dense(5, activation='softmax')(x)\n",
        "model = Model(inputs=vgg.input, outputs=prediction)\n",
        "model.summary()\n"
      ],
      "metadata": {
        "colab": {
          "base_uri": "https://localhost:8080/"
        },
        "id": "g0xdYz7WCZfn",
        "outputId": "57f0f2d4-cfd4-4382-b44f-a6c1c721b845"
      },
      "execution_count": 4,
      "outputs": [
        {
          "output_type": "stream",
          "name": "stdout",
          "text": [
            "Downloading data from https://storage.googleapis.com/tensorflow/keras-applications/vgg16/vgg16_weights_tf_dim_ordering_tf_kernels_notop.h5\n",
            "58889256/58889256 [==============================] - 0s 0us/step\n",
            "Model: \"model\"\n",
            "_________________________________________________________________\n",
            " Layer (type)                Output Shape              Param #   \n",
            "=================================================================\n",
            " input_1 (InputLayer)        [(None, 224, 224, 3)]     0         \n",
            "                                                                 \n",
            " block1_conv1 (Conv2D)       (None, 224, 224, 64)      1792      \n",
            "                                                                 \n",
            " block1_conv2 (Conv2D)       (None, 224, 224, 64)      36928     \n",
            "                                                                 \n",
            " block1_pool (MaxPooling2D)  (None, 112, 112, 64)      0         \n",
            "                                                                 \n",
            " block2_conv1 (Conv2D)       (None, 112, 112, 128)     73856     \n",
            "                                                                 \n",
            " block2_conv2 (Conv2D)       (None, 112, 112, 128)     147584    \n",
            "                                                                 \n",
            " block2_pool (MaxPooling2D)  (None, 56, 56, 128)       0         \n",
            "                                                                 \n",
            " block3_conv1 (Conv2D)       (None, 56, 56, 256)       295168    \n",
            "                                                                 \n",
            " block3_conv2 (Conv2D)       (None, 56, 56, 256)       590080    \n",
            "                                                                 \n",
            " block3_conv3 (Conv2D)       (None, 56, 56, 256)       590080    \n",
            "                                                                 \n",
            " block3_pool (MaxPooling2D)  (None, 28, 28, 256)       0         \n",
            "                                                                 \n",
            " block4_conv1 (Conv2D)       (None, 28, 28, 512)       1180160   \n",
            "                                                                 \n",
            " block4_conv2 (Conv2D)       (None, 28, 28, 512)       2359808   \n",
            "                                                                 \n",
            " block4_conv3 (Conv2D)       (None, 28, 28, 512)       2359808   \n",
            "                                                                 \n",
            " block4_pool (MaxPooling2D)  (None, 14, 14, 512)       0         \n",
            "                                                                 \n",
            " block5_conv1 (Conv2D)       (None, 14, 14, 512)       2359808   \n",
            "                                                                 \n",
            " block5_conv2 (Conv2D)       (None, 14, 14, 512)       2359808   \n",
            "                                                                 \n",
            " block5_conv3 (Conv2D)       (None, 14, 14, 512)       2359808   \n",
            "                                                                 \n",
            " block5_pool (MaxPooling2D)  (None, 7, 7, 512)         0         \n",
            "                                                                 \n",
            " flatten (Flatten)           (None, 25088)             0         \n",
            "                                                                 \n",
            " dense (Dense)               (None, 5)                 125445    \n",
            "                                                                 \n",
            "=================================================================\n",
            "Total params: 14,840,133\n",
            "Trainable params: 125,445\n",
            "Non-trainable params: 14,714,688\n",
            "_________________________________________________________________\n"
          ]
        }
      ]
    },
    {
      "cell_type": "code",
      "source": [
        "model.compile(loss='sparse_categorical_crossentropy', optimizer='adam', metrics=['accuracy'])\n",
        "history = model.fit(train,epochs=20, batch_size=24,steps_per_epoch=122,validation_data=validation,validation_steps=40)\n"
      ],
      "metadata": {
        "colab": {
          "base_uri": "https://localhost:8080/"
        },
        "id": "8PPZxRMrnO63",
        "outputId": "05d9de24-d180-4364-c46e-f80d2dbcda46"
      },
      "execution_count": 5,
      "outputs": [
        {
          "output_type": "stream",
          "name": "stdout",
          "text": [
            "Epoch 1/20\n",
            "122/122 [==============================] - 31s 152ms/step - loss: 6.2892 - accuracy: 0.6759 - val_loss: 5.2502 - val_accuracy: 0.7325\n",
            "Epoch 2/20\n",
            "122/122 [==============================] - 17s 124ms/step - loss: 3.5713 - accuracy: 0.7967 - val_loss: 7.0519 - val_accuracy: 0.7625\n",
            "Epoch 3/20\n",
            "122/122 [==============================] - 15s 125ms/step - loss: 2.7092 - accuracy: 0.8595 - val_loss: 4.2228 - val_accuracy: 0.8175\n",
            "Epoch 4/20\n",
            "122/122 [==============================] - 16s 128ms/step - loss: 2.2365 - accuracy: 0.8788 - val_loss: 6.0524 - val_accuracy: 0.7900\n",
            "Epoch 5/20\n",
            "122/122 [==============================] - 16s 132ms/step - loss: 1.5121 - accuracy: 0.8929 - val_loss: 5.7065 - val_accuracy: 0.7875\n",
            "Epoch 6/20\n",
            "122/122 [==============================] - 16s 132ms/step - loss: 1.4493 - accuracy: 0.9045 - val_loss: 7.1523 - val_accuracy: 0.7600\n",
            "Epoch 7/20\n",
            "122/122 [==============================] - 16s 135ms/step - loss: 1.2896 - accuracy: 0.9087 - val_loss: 7.1651 - val_accuracy: 0.7800\n",
            "Epoch 8/20\n",
            "122/122 [==============================] - 18s 144ms/step - loss: 1.2786 - accuracy: 0.9121 - val_loss: 9.4986 - val_accuracy: 0.7725\n",
            "Epoch 9/20\n",
            "122/122 [==============================] - 17s 140ms/step - loss: 1.0882 - accuracy: 0.9217 - val_loss: 8.6825 - val_accuracy: 0.7575\n",
            "Epoch 10/20\n",
            "122/122 [==============================] - 17s 141ms/step - loss: 0.8282 - accuracy: 0.9330 - val_loss: 7.6374 - val_accuracy: 0.7875\n",
            "Epoch 11/20\n",
            "122/122 [==============================] - 17s 139ms/step - loss: 0.7851 - accuracy: 0.9396 - val_loss: 8.1637 - val_accuracy: 0.8075\n",
            "Epoch 12/20\n",
            "122/122 [==============================] - 17s 138ms/step - loss: 0.9408 - accuracy: 0.9262 - val_loss: 9.7893 - val_accuracy: 0.7675\n",
            "Epoch 13/20\n",
            "122/122 [==============================] - 20s 160ms/step - loss: 0.9065 - accuracy: 0.9330 - val_loss: 8.8001 - val_accuracy: 0.8125\n",
            "Epoch 14/20\n",
            "122/122 [==============================] - 17s 138ms/step - loss: 0.9296 - accuracy: 0.9286 - val_loss: 10.8776 - val_accuracy: 0.7700\n",
            "Epoch 15/20\n",
            "122/122 [==============================] - 17s 142ms/step - loss: 0.7881 - accuracy: 0.9330 - val_loss: 11.0841 - val_accuracy: 0.7850\n",
            "Epoch 16/20\n",
            "122/122 [==============================] - 17s 139ms/step - loss: 1.0471 - accuracy: 0.9327 - val_loss: 9.2842 - val_accuracy: 0.8125\n",
            "Epoch 17/20\n",
            "122/122 [==============================] - 17s 141ms/step - loss: 0.7909 - accuracy: 0.9437 - val_loss: 8.4946 - val_accuracy: 0.7875\n",
            "Epoch 18/20\n",
            "122/122 [==============================] - 17s 140ms/step - loss: 1.0618 - accuracy: 0.9354 - val_loss: 10.4857 - val_accuracy: 0.7825\n",
            "Epoch 19/20\n",
            "122/122 [==============================] - 17s 139ms/step - loss: 0.9795 - accuracy: 0.9440 - val_loss: 10.3067 - val_accuracy: 0.8125\n",
            "Epoch 20/20\n",
            "122/122 [==============================] - 17s 139ms/step - loss: 0.8374 - accuracy: 0.9481 - val_loss: 13.8700 - val_accuracy: 0.7575\n"
          ]
        }
      ]
    }
  ]
}